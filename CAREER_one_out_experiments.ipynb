{
 "cells": [
  {
   "cell_type": "code",
   "execution_count": 99,
   "metadata": {},
   "outputs": [],
   "source": [
    "#imports\n",
    "import pickle\n",
    "import numpy as np\n",
    "import glob\n",
    "import os\n",
    "import pandas as pd"
   ]
  },
  {
   "cell_type": "code",
   "execution_count": 100,
   "metadata": {},
   "outputs": [],
   "source": [
    "#load infant dataset\n",
    "with open(\"Data\\InfAct_plus\\InfAct_plus_2d_yolo.pkl\", \"rb\") as f:\n",
    "    ds = pickle.load(f)"
   ]
  },
  {
   "cell_type": "code",
   "execution_count": 101,
   "metadata": {},
   "outputs": [
    {
     "data": {
      "text/plain": [
       "1127"
      ]
     },
     "execution_count": 101,
     "metadata": {},
     "output_type": "execute_result"
    }
   ],
   "source": [
    "len(ds['annotations'])"
   ]
  },
  {
   "cell_type": "code",
   "execution_count": 102,
   "metadata": {},
   "outputs": [],
   "source": [
    "num_acts_per_sub = {}\n",
    "for anno in ds['annotations']:\n",
    "    source = anno['source']\n",
    "    pos = anno['pos_label']\n",
    "    if source not in num_acts_per_sub.keys():\n",
    "        num_acts_per_sub[source] = {}\n",
    "    if pos not in num_acts_per_sub[source].keys():\n",
    "        num_acts_per_sub[source][pos] = 1\n",
    "    else:\n",
    "        num_acts_per_sub[source][pos]+=1"
   ]
  },
  {
   "cell_type": "code",
   "execution_count": 110,
   "metadata": {},
   "outputs": [
    {
     "name": "stdout",
     "output_type": "stream",
     "text": [
      "\\begin{tabular}{lrrrrrrrr}\n",
      "\\toprule\n",
      " & youtube & CAREER_D01 & CAREER_D05 & CAREER_D08 & CAREER_D09 & CAREER_D02 & CAREER_D03 & CAREER_D10 \\\\\n",
      "\\midrule\n",
      "Prone & 74 & 75 & 45 & 30 & 28 & 1 & 3 & 40 \\\\\n",
      "All-fours & 69 & 0 & 0 & 0 & 0 & 18 & 47 & 78 \\\\\n",
      "Standing & 79 & 0 & 0 & 0 & 0 & 15 & 22 & 0 \\\\\n",
      "Supine & 62 & 23 & 0 & 0 & 45 & 0 & 0 & 9 \\\\\n",
      "Sitting & 116 & 0 & 0 & 0 & 0 & 21 & 126 & 101 \\\\\n",
      "\\bottomrule\n",
      "\\end{tabular}\n",
      "\n"
     ]
    }
   ],
   "source": [
    "num_acts_per_sub_dict = pd.DataFrame.from_dict(num_acts_per_sub)\n",
    "num_acts_per_sub_dict.fillna(0, inplace=True)\n",
    "print(num_acts_per_sub_dict.astype(int).to_latex())"
   ]
  },
  {
   "cell_type": "code",
   "execution_count": 79,
   "metadata": {},
   "outputs": [
    {
     "data": {
      "text/html": [
       "<div>\n",
       "<style scoped>\n",
       "    .dataframe tbody tr th:only-of-type {\n",
       "        vertical-align: middle;\n",
       "    }\n",
       "\n",
       "    .dataframe tbody tr th {\n",
       "        vertical-align: top;\n",
       "    }\n",
       "\n",
       "    .dataframe thead th {\n",
       "        text-align: right;\n",
       "    }\n",
       "</style>\n",
       "<table border=\"1\" class=\"dataframe\">\n",
       "  <thead>\n",
       "    <tr style=\"text-align: right;\">\n",
       "      <th></th>\n",
       "      <th>Prone</th>\n",
       "      <th>All-fours</th>\n",
       "      <th>Standing</th>\n",
       "      <th>Supine</th>\n",
       "      <th>Sitting</th>\n",
       "    </tr>\n",
       "  </thead>\n",
       "  <tbody>\n",
       "    <tr>\n",
       "      <th>youtube</th>\n",
       "      <td>74</td>\n",
       "      <td>69</td>\n",
       "      <td>79</td>\n",
       "      <td>62</td>\n",
       "      <td>116</td>\n",
       "    </tr>\n",
       "    <tr>\n",
       "      <th>CAREER</th>\n",
       "      <td>222</td>\n",
       "      <td>143</td>\n",
       "      <td>37</td>\n",
       "      <td>77</td>\n",
       "      <td>248</td>\n",
       "    </tr>\n",
       "  </tbody>\n",
       "</table>\n",
       "</div>"
      ],
      "text/plain": [
       "         Prone  All-fours  Standing  Supine  Sitting\n",
       "youtube     74         69        79      62      116\n",
       "CAREER     222        143        37      77      248"
      ]
     },
     "execution_count": 79,
     "metadata": {},
     "output_type": "execute_result"
    }
   ],
   "source": [
    "num_acts_per_sub = {}\n",
    "for anno in ds['annotations']:\n",
    "    source = anno['source'].split('_')[0]\n",
    "    pos = anno['pos_label']\n",
    "    if source not in num_acts_per_sub.keys():\n",
    "        num_acts_per_sub[source] = {}\n",
    "    if pos not in num_acts_per_sub[source].keys():\n",
    "        num_acts_per_sub[source][pos] = 1\n",
    "    else:\n",
    "        num_acts_per_sub[source][pos]+=1\n",
    "\n",
    "num_acts_per_sub_dict = pd.DataFrame.from_dict(num_acts_per_sub)\n",
    "num_acts_per_sub_dict.fillna(0, inplace=True)\n",
    "b = num_acts_per_sub_dict.T\n",
    "b"
   ]
  },
  {
   "cell_type": "code",
   "execution_count": 91,
   "metadata": {},
   "outputs": [
    {
     "data": {
      "text/html": [
       "<div>\n",
       "<style scoped>\n",
       "    .dataframe tbody tr th:only-of-type {\n",
       "        vertical-align: middle;\n",
       "    }\n",
       "\n",
       "    .dataframe tbody tr th {\n",
       "        vertical-align: top;\n",
       "    }\n",
       "\n",
       "    .dataframe thead th {\n",
       "        text-align: right;\n",
       "    }\n",
       "</style>\n",
       "<table border=\"1\" class=\"dataframe\">\n",
       "  <thead>\n",
       "    <tr style=\"text-align: right;\">\n",
       "      <th></th>\n",
       "      <th>Prone</th>\n",
       "      <th>All-fours</th>\n",
       "      <th>Standing</th>\n",
       "      <th>Supine</th>\n",
       "      <th>Sitting</th>\n",
       "    </tr>\n",
       "  </thead>\n",
       "  <tbody>\n",
       "    <tr>\n",
       "      <th>youtube</th>\n",
       "      <td>74</td>\n",
       "      <td>69</td>\n",
       "      <td>79</td>\n",
       "      <td>62</td>\n",
       "      <td>116</td>\n",
       "    </tr>\n",
       "    <tr>\n",
       "      <th>CAREER</th>\n",
       "      <td>222</td>\n",
       "      <td>143</td>\n",
       "      <td>37</td>\n",
       "      <td>77</td>\n",
       "      <td>248</td>\n",
       "    </tr>\n",
       "  </tbody>\n",
       "</table>\n",
       "</div>"
      ],
      "text/plain": [
       "         Prone  All-fours  Standing  Supine  Sitting\n",
       "youtube     74         69        79      62      116\n",
       "CAREER     222        143        37      77      248"
      ]
     },
     "execution_count": 91,
     "metadata": {},
     "output_type": "execute_result"
    }
   ],
   "source": [
    "b"
   ]
  },
  {
   "cell_type": "code",
   "execution_count": 90,
   "metadata": {},
   "outputs": [
    {
     "data": {
      "text/plain": [
       "152"
      ]
     },
     "execution_count": 90,
     "metadata": {},
     "output_type": "execute_result"
    }
   ],
   "source": [
    "1127-975"
   ]
  },
  {
   "cell_type": "code",
   "execution_count": 12,
   "metadata": {},
   "outputs": [
    {
     "data": {
      "text/plain": [
       "12.375"
      ]
     },
     "execution_count": 12,
     "metadata": {},
     "output_type": "execute_result"
    }
   ],
   "source": [
    "198.0/16"
   ]
  },
  {
   "cell_type": "code",
   "execution_count": 6,
   "metadata": {},
   "outputs": [],
   "source": [
    "get_source = lambda x: x['source']\n",
    "get_frame_dirs = lambda x: x['frame_dir']"
   ]
  },
  {
   "cell_type": "code",
   "execution_count": 13,
   "metadata": {},
   "outputs": [],
   "source": [
    "sources = list(map(get_source, ds['annotations']))\n",
    "u_sources = np.unique(sources)\n",
    "\n",
    "for us in u_sources:\n",
    "    non_youtube_ann = [item for item in ds['annotations'] if \"youtube\" not in item['source']]\n",
    "    if us==\"youtube\":\n",
    "        continue\n",
    "    leave_out_sub = us\n",
    "\n",
    "    yt_splits    = [item for item in ds[\"annotations\"] if \"youtube\" in item['source']]\n",
    "    train_splits = [item for item in non_youtube_ann if leave_out_sub not in item['source']]\n",
    "    val_splits   = [item for item in non_youtube_ann if leave_out_sub in item['source']]\n",
    "    assert len(yt_splits)==400\n",
    "    assert len(train_splits)+len(val_splits)==727\n",
    "\n",
    "    leave_out_ds = {\"split\": {\n",
    "        \"train\": [*list(map(get_frame_dirs, train_splits))],\n",
    "        \"val\": [*list(map(get_frame_dirs, val_splits))]\n",
    "    },\n",
    "    \"annotations\": [*train_splits, *val_splits]}\n",
    "    assert len(leave_out_ds['annotations'])==727\n",
    "    assert len(leave_out_ds['split']['train'])+len(leave_out_ds['split']['val'])==len(leave_out_ds['annotations'])\n",
    "\n",
    "    for item in leave_out_ds['split']['train']:\n",
    "        assert item not in leave_out_ds['split']['val']\n",
    "\n",
    "        \n",
    "    for item in leave_out_ds['split']['val']:\n",
    "        assert item not in leave_out_ds['split']['train']\n",
    "\n",
    "    leave_out_ds_with_yt = {\"split\": {\n",
    "        \"train\": [*list(map(get_frame_dirs, train_splits)), *list(map(get_frame_dirs, yt_splits))],\n",
    "        \"val\": [*list(map(get_frame_dirs, val_splits))]\n",
    "    },\n",
    "    \"annotations\": [*train_splits, *val_splits, *yt_splits]}\n",
    "    assert len(leave_out_ds_with_yt['annotations'])==1127\n",
    "    assert len(leave_out_ds_with_yt['split']['train'])+len(leave_out_ds_with_yt['split']['val'])==len(leave_out_ds_with_yt['annotations'])\n",
    "\n",
    "    with open(f\"Data\\career_leave_out\\leave_out_{leave_out_sub}.pkl\", \"wb\") as f:\n",
    "        pickle.dump(leave_out_ds, f)\n",
    "\n",
    "    with open(f\"Data\\career_leave_out\\leave_out_{leave_out_sub}_with_youtube.pkl\", \"wb\") as f:\n",
    "        pickle.dump(leave_out_ds_with_yt, f)"
   ]
  },
  {
   "cell_type": "code",
   "execution_count": 7,
   "metadata": {},
   "outputs": [],
   "source": [
    "#mim train mmaction configs_career\\ctrgcn_infact_plus_2d_primitive_leave_out_D01.py   --work-dir ../../../Results_CTRGCN/ctrgcn_infact_plus_2d_primitive_leave_out_D01_run1\n",
    "#mim train mmaction configs_career\\ctrgcn_infact_plus_2d_primitive_leave_out_D02.py   --work-dir ../../../Results_CTRGCN/ctrgcn_infact_plus_2d_primitive_leave_out_D02_run1\n",
    "#mim train mmaction configs_career\\ctrgcn_infact_plus_2d_primitive_leave_out_D03.py   --work-dir ../../../Results_CTRGCN/ctrgcn_infact_plus_2d_primitive_leave_out_D03_run1\n",
    "#mim train mmaction configs_career\\ctrgcn_infact_plus_2d_primitive_leave_out_D05.py   --work-dir ../../../Results_CTRGCN/ctrgcn_infact_plus_2d_primitive_leave_out_D05_run1\n",
    "#mim train mmaction configs_career\\ctrgcn_infact_plus_2d_primitive_leave_out_D08.py   --work-dir ../../../Results_CTRGCN/ctrgcn_infact_plus_2d_primitive_leave_out_D08_run1\n",
    "#mim train mmaction configs_career\\ctrgcn_infact_plus_2d_primitive_leave_out_D09.py   --work-dir ../../../Results_CTRGCN/ctrgcn_infact_plus_2d_primitive_leave_out_D09_run1\n",
    "#mim train mmaction configs_career\\ctrgcn_infact_plus_2d_primitive_leave_out_D10.py   --work-dir ../../../Results_CTRGCN/ctrgcn_infact_plus_2d_primitive_leave_out_D10_run1"
   ]
  },
  {
   "cell_type": "code",
   "execution_count": 50,
   "metadata": {},
   "outputs": [],
   "source": [
    "#mim test mmaction configs_career/ctrgcn_infact_plus_2d_primitive_leave_out_D01.py --checkpoint ../../../Results_CTRGCN/ctrgcn_infact_plus_2d_primitive_leave_out_D01_run1/epoch_50.pth --dump ../../../Results_CTRGCN/ctrgcn_infact_plus_2d_primitive_leave_out_D01_run1/eval.pkl\n",
    "#mim test mmaction configs_career/ctrgcn_infact_plus_2d_primitive_leave_out_D02.py --checkpoint ../../../Results_CTRGCN/ctrgcn_infact_plus_2d_primitive_leave_out_D02_run1/epoch_50.pth --dump ../../../Results_CTRGCN/ctrgcn_infact_plus_2d_primitive_leave_out_D02_run1/eval.pkl\n",
    "#mim test mmaction configs_career/ctrgcn_infact_plus_2d_primitive_leave_out_D03.py --checkpoint ../../../Results_CTRGCN/ctrgcn_infact_plus_2d_primitive_leave_out_D03_run1/epoch_50.pth --dump ../../../Results_CTRGCN/ctrgcn_infact_plus_2d_primitive_leave_out_D03_run1/eval.pkl\n",
    "#mim test mmaction configs_career/ctrgcn_infact_plus_2d_primitive_leave_out_D05.py --checkpoint ../../../Results_CTRGCN/ctrgcn_infact_plus_2d_primitive_leave_out_D05_run1/epoch_50.pth --dump ../../../Results_CTRGCN/ctrgcn_infact_plus_2d_primitive_leave_out_D05_run1/eval.pkl\n",
    "#mim test mmaction configs_career/ctrgcn_infact_plus_2d_primitive_leave_out_D08.py --checkpoint ../../../Results_CTRGCN/ctrgcn_infact_plus_2d_primitive_leave_out_D08_run1/epoch_50.pth --dump ../../../Results_CTRGCN/ctrgcn_infact_plus_2d_primitive_leave_out_D08_run1/eval.pkl\n",
    "#mim test mmaction configs_career/ctrgcn_infact_plus_2d_primitive_leave_out_D09.py --checkpoint ../../../Results_CTRGCN/ctrgcn_infact_plus_2d_primitive_leave_out_D09_run1/epoch_50.pth --dump ../../../Results_CTRGCN/ctrgcn_infact_plus_2d_primitive_leave_out_D09_run1/eval.pkl\n",
    "#mim test mmaction configs_career/ctrgcn_infact_plus_2d_primitive_leave_out_D10.py --checkpoint ../../../Results_CTRGCN/ctrgcn_infact_plus_2d_primitive_leave_out_D10_run1/epoch_50.pth --dump ../../../Results_CTRGCN/ctrgcn_infact_plus_2d_primitive_leave_out_D10_run1/eval.pkl"
   ]
  },
  {
   "cell_type": "code",
   "execution_count": 61,
   "metadata": {},
   "outputs": [
    {
     "data": {
      "text/html": [
       "<div>\n",
       "<style scoped>\n",
       "    .dataframe tbody tr th:only-of-type {\n",
       "        vertical-align: middle;\n",
       "    }\n",
       "\n",
       "    .dataframe tbody tr th {\n",
       "        vertical-align: top;\n",
       "    }\n",
       "\n",
       "    .dataframe thead th {\n",
       "        text-align: right;\n",
       "    }\n",
       "</style>\n",
       "<table border=\"1\" class=\"dataframe\">\n",
       "  <thead>\n",
       "    <tr style=\"text-align: right;\">\n",
       "      <th></th>\n",
       "      <th>D01</th>\n",
       "      <th>D02</th>\n",
       "      <th>D03</th>\n",
       "      <th>D05</th>\n",
       "      <th>D08</th>\n",
       "      <th>D09</th>\n",
       "      <th>Subject Mean</th>\n",
       "    </tr>\n",
       "  </thead>\n",
       "  <tbody>\n",
       "    <tr>\n",
       "      <th>STGCN Exp: run1</th>\n",
       "      <td>76.53</td>\n",
       "      <td>60.260000</td>\n",
       "      <td>53.780000</td>\n",
       "      <td>35.560000</td>\n",
       "      <td>100.0</td>\n",
       "      <td>75.340000</td>\n",
       "      <td>66.911667</td>\n",
       "    </tr>\n",
       "    <tr>\n",
       "      <th>STGCN Exp: run2</th>\n",
       "      <td>76.53</td>\n",
       "      <td>56.410000</td>\n",
       "      <td>51.390000</td>\n",
       "      <td>20.000000</td>\n",
       "      <td>100.0</td>\n",
       "      <td>75.340000</td>\n",
       "      <td>63.278333</td>\n",
       "    </tr>\n",
       "    <tr>\n",
       "      <th>STGCN Exp: run3</th>\n",
       "      <td>76.53</td>\n",
       "      <td>58.970000</td>\n",
       "      <td>51.000000</td>\n",
       "      <td>51.110000</td>\n",
       "      <td>100.0</td>\n",
       "      <td>76.710000</td>\n",
       "      <td>69.053333</td>\n",
       "    </tr>\n",
       "    <tr>\n",
       "      <th>STGCN Exp means</th>\n",
       "      <td>76.53</td>\n",
       "      <td>58.546667</td>\n",
       "      <td>52.056667</td>\n",
       "      <td>35.556667</td>\n",
       "      <td>100.0</td>\n",
       "      <td>75.796667</td>\n",
       "      <td>66.414444</td>\n",
       "    </tr>\n",
       "  </tbody>\n",
       "</table>\n",
       "</div>"
      ],
      "text/plain": [
       "                   D01        D02        D03        D05    D08        D09  \\\n",
       "STGCN Exp: run1  76.53  60.260000  53.780000  35.560000  100.0  75.340000   \n",
       "STGCN Exp: run2  76.53  56.410000  51.390000  20.000000  100.0  75.340000   \n",
       "STGCN Exp: run3  76.53  58.970000  51.000000  51.110000  100.0  76.710000   \n",
       "STGCN Exp means  76.53  58.546667  52.056667  35.556667  100.0  75.796667   \n",
       "\n",
       "                 Subject Mean  \n",
       "STGCN Exp: run1     66.911667  \n",
       "STGCN Exp: run2     63.278333  \n",
       "STGCN Exp: run3     69.053333  \n",
       "STGCN Exp means     66.414444  "
      ]
     },
     "execution_count": 61,
     "metadata": {},
     "output_type": "execute_result"
    }
   ],
   "source": [
    "convert_to_percent = lambda x: round(x*100, 2)\n",
    "\n",
    "model = \"STGCN\"\n",
    "\n",
    "results_pths = glob.glob(f\"Results_{model}\\\\*_leave_out_*\\\\eval.pkl\")\n",
    "results_dicts = {}\n",
    "for res_path in results_pths:\n",
    "    pth_split = res_path.split(os.sep)\n",
    "    exp_num = f\"{model} Exp: \"+pth_split[-2].split(\"_\")[-1]\n",
    "    leave_out_sub = pth_split[1].split(\"_\")[-2]\n",
    "    with open(res_path, \"rb\") as f:\n",
    "        eval = pickle.load(f)\n",
    "    gts = np.array([item['gt_label'].item() for item in eval])\n",
    "    preds = np.array([item['pred_label'].item() for item in eval])\n",
    "    acc = (gts==preds).sum()/len(gts)\n",
    "    acc = convert_to_percent(acc)\n",
    "    \n",
    "    if leave_out_sub not in results_dicts.keys():\n",
    "        results_dicts[leave_out_sub] = {}\n",
    "    results_dicts[leave_out_sub][exp_num]=acc\n",
    "\n",
    "results_df = pd.DataFrame.from_dict(results_dicts)\n",
    "results_df['Subject Mean'] = results_df.mean(axis=1)\n",
    "exp_means = results_df.mean(axis=0)\n",
    "results_df.loc[f'{model} Exp means'] = exp_means\n",
    "\n",
    "results_df"
   ]
  },
  {
   "cell_type": "code",
   "execution_count": 52,
   "metadata": {},
   "outputs": [],
   "source": [
    "#python tools/train.py configs\\skeleton\\career_stgcn\\stgcn_infact_plus_2d_primitive_leave_out_D01.py --work-dir ..\\Results_STGCN_CAREER\\stgcn_infact_plus_2d_primitive_leave_out_D01\n",
    "#python tools/train.py configs\\skeleton\\career_stgcn\\stgcn_infact_plus_2d_primitive_leave_out_D02.py --work-dir ..\\Results_STGCN_CAREER\\stgcn_infact_plus_2d_primitive_leave_out_D02\n",
    "#python tools/train.py configs\\skeleton\\career_stgcn\\stgcn_infact_plus_2d_primitive_leave_out_D03.py --work-dir ..\\Results_STGCN_CAREER\\stgcn_infact_plus_2d_primitive_leave_out_D03\n",
    "#python tools/train.py configs\\skeleton\\career_stgcn\\stgcn_infact_plus_2d_primitive_leave_out_D05.py --work-dir ..\\Results_STGCN_CAREER\\stgcn_infact_plus_2d_primitive_leave_out_D05\n",
    "#python tools/train.py configs\\skeleton\\career_stgcn\\stgcn_infact_plus_2d_primitive_leave_out_D08.py --work-dir ..\\Results_STGCN_CAREER\\stgcn_infact_plus_2d_primitive_leave_out_D08\n",
    "#python tools/train.py configs\\skeleton\\career_stgcn\\stgcn_infact_plus_2d_primitive_leave_out_D09.py --work-dir ..\\Results_STGCN_CAREER\\stgcn_infact_plus_2d_primitive_leave_out_D09"
   ]
  },
  {
   "cell_type": "code",
   "execution_count": 53,
   "metadata": {},
   "outputs": [],
   "source": [
    "#python tools\\test.py configs\\skeleton\\career_stgcn\\stgcn_infact_plus_2d_primitive_leave_out_D01.py ..\\Results_STGCN_CAREER\\stgcn_infact_plus_2d_primitive_leave_out_D01\\best_acc_top1_epoch_1.pth --work-dir ..\\Results_STGCN_CAREER\\stgcn_infact_plus_2d_primitive_leave_out_D01 --dump ..\\Results_STGCN_CAREER\\stgcn_infact_plus_2d_primitive_leave_out_D01\\eval.pkl\n",
    "#python tools\\test.py configs\\skeleton\\career_stgcn\\stgcn_infact_plus_2d_primitive_leave_out_D02.py ..\\Results_STGCN_CAREER\\stgcn_infact_plus_2d_primitive_leave_out_D02\\best_acc_top1_epoch_37.pth --work-dir ..\\Results_STGCN_CAREER\\stgcn_infact_plus_2d_primitive_leave_out_D02 --dump ..\\Results_STGCN_CAREER\\stgcn_infact_plus_2d_primitive_leave_out_D02\\eval.pkl\n",
    "#python tools\\test.py configs\\skeleton\\career_stgcn\\stgcn_infact_plus_2d_primitive_leave_out_D03.py ..\\Results_STGCN_CAREER\\stgcn_infact_plus_2d_primitive_leave_out_D03\\best_acc_top1_epoch_17.pth --work-dir ..\\Results_STGCN_CAREER\\stgcn_infact_plus_2d_primitive_leave_out_D03 --dump ..\\Results_STGCN_CAREER\\stgcn_infact_plus_2d_primitive_leave_out_D03\\eval.pkl\n",
    "#python tools\\test.py configs\\skeleton\\career_stgcn\\stgcn_infact_plus_2d_primitive_leave_out_D05.py ..\\Results_STGCN_CAREER\\stgcn_infact_plus_2d_primitive_leave_out_D05\\best_acc_top1_epoch_35.pth --work-dir ..\\Results_STGCN_CAREER\\stgcn_infact_plus_2d_primitive_leave_out_D05 --dump ..\\Results_STGCN_CAREER\\stgcn_infact_plus_2d_primitive_leave_out_D05\\eval.pkl\n",
    "#python tools\\test.py configs\\skeleton\\career_stgcn\\stgcn_infact_plus_2d_primitive_leave_out_D08.py ..\\Results_STGCN_CAREER\\stgcn_infact_plus_2d_primitive_leave_out_D08\\best_acc_top1_epoch_6.pth --work-dir ..\\Results_STGCN_CAREER\\stgcn_infact_plus_2d_primitive_leave_out_D08 --dump ..\\Results_STGCN_CAREER\\stgcn_infact_plus_2d_primitive_leave_out_D08\\eval.pkl\n",
    "#python tools\\test.py configs\\skeleton\\career_stgcn\\stgcn_infact_plus_2d_primitive_leave_out_D09.py ..\\Results_STGCN_CAREER\\stgcn_infact_plus_2d_primitive_leave_out_D09\\best_acc_top1_epoch_14.pth --work-dir ..\\Results_STGCN_CAREER\\stgcn_infact_plus_2d_primitive_leave_out_D09 --dump ..\\Results_STGCN_CAREER\\stgcn_infact_plus_2d_primitive_leave_out_D09\\eval.pkl"
   ]
  },
  {
   "cell_type": "code",
   "execution_count": 56,
   "metadata": {},
   "outputs": [],
   "source": [
    "convert_to_percent = lambda x: round(x*100, 2)\n",
    "\n",
    "results_pths = glob.glob(\"Results_STGCN_CAREER_*\\\\*\\\\eval.pkl\")\n",
    "results_dicts = {}\n",
    "for res_path in results_pths:\n",
    "    pth_split = res_path.split(os.sep)\n",
    "    exp_num = \"STGCN Exp: \"+pth_split[0].split(\"_\")[-1]\n",
    "    leave_out_sub = pth_split[1].split(\"_\")[-1]\n",
    "    with open(res_path, \"rb\") as f:\n",
    "        eval = pickle.load(f)\n",
    "    gts = np.array([item['gt_label'].item() for item in eval])\n",
    "    preds = np.array([item['pred_label'].item() for item in eval])\n",
    "    acc = (gts==preds).sum()/len(gts)\n",
    "    acc = convert_to_percent(acc)\n",
    "    \n",
    "    if leave_out_sub not in results_dicts.keys():\n",
    "        results_dicts[leave_out_sub] = {}\n",
    "    results_dicts[leave_out_sub][exp_num]=acc\n",
    "\n",
    "results_df = pd.DataFrame.from_dict(results_dicts)\n",
    "results_df['Subject Mean'] = results_df.mean(axis=1)\n",
    "exp_means = results_df.mean(axis=0)\n",
    "results_df.loc['STGCN Exp means'] = exp_means"
   ]
  },
  {
   "cell_type": "code",
   "execution_count": 55,
   "metadata": {},
   "outputs": [
    {
     "data": {
      "text/html": [
       "<div>\n",
       "<style scoped>\n",
       "    .dataframe tbody tr th:only-of-type {\n",
       "        vertical-align: middle;\n",
       "    }\n",
       "\n",
       "    .dataframe tbody tr th {\n",
       "        vertical-align: top;\n",
       "    }\n",
       "\n",
       "    .dataframe thead th {\n",
       "        text-align: right;\n",
       "    }\n",
       "</style>\n",
       "<table border=\"1\" class=\"dataframe\">\n",
       "  <thead>\n",
       "    <tr style=\"text-align: right;\">\n",
       "      <th></th>\n",
       "      <th>D01</th>\n",
       "      <th>D02</th>\n",
       "      <th>D03</th>\n",
       "      <th>D05</th>\n",
       "      <th>D08</th>\n",
       "      <th>D09</th>\n",
       "      <th>Subject Mean</th>\n",
       "    </tr>\n",
       "  </thead>\n",
       "  <tbody>\n",
       "    <tr>\n",
       "      <th>CTRGCN Exp: 1</th>\n",
       "      <td>76.53</td>\n",
       "      <td>60.260000</td>\n",
       "      <td>53.780000</td>\n",
       "      <td>35.560000</td>\n",
       "      <td>100.0</td>\n",
       "      <td>75.340000</td>\n",
       "      <td>66.911667</td>\n",
       "    </tr>\n",
       "    <tr>\n",
       "      <th>CTRGCN Exp: 2</th>\n",
       "      <td>76.53</td>\n",
       "      <td>56.410000</td>\n",
       "      <td>51.390000</td>\n",
       "      <td>20.000000</td>\n",
       "      <td>100.0</td>\n",
       "      <td>75.340000</td>\n",
       "      <td>63.278333</td>\n",
       "    </tr>\n",
       "    <tr>\n",
       "      <th>CTRGCN Exp: 3</th>\n",
       "      <td>76.53</td>\n",
       "      <td>58.970000</td>\n",
       "      <td>51.000000</td>\n",
       "      <td>51.110000</td>\n",
       "      <td>100.0</td>\n",
       "      <td>76.710000</td>\n",
       "      <td>69.053333</td>\n",
       "    </tr>\n",
       "    <tr>\n",
       "      <th>STGCN Exp means</th>\n",
       "      <td>76.53</td>\n",
       "      <td>58.546667</td>\n",
       "      <td>52.056667</td>\n",
       "      <td>35.556667</td>\n",
       "      <td>100.0</td>\n",
       "      <td>75.796667</td>\n",
       "      <td>66.414444</td>\n",
       "    </tr>\n",
       "  </tbody>\n",
       "</table>\n",
       "</div>"
      ],
      "text/plain": [
       "                   D01        D02        D03        D05    D08        D09  \\\n",
       "CTRGCN Exp: 1    76.53  60.260000  53.780000  35.560000  100.0  75.340000   \n",
       "CTRGCN Exp: 2    76.53  56.410000  51.390000  20.000000  100.0  75.340000   \n",
       "CTRGCN Exp: 3    76.53  58.970000  51.000000  51.110000  100.0  76.710000   \n",
       "STGCN Exp means  76.53  58.546667  52.056667  35.556667  100.0  75.796667   \n",
       "\n",
       "                 Subject Mean  \n",
       "CTRGCN Exp: 1       66.911667  \n",
       "CTRGCN Exp: 2       63.278333  \n",
       "CTRGCN Exp: 3       69.053333  \n",
       "STGCN Exp means     66.414444  "
      ]
     },
     "execution_count": 55,
     "metadata": {},
     "output_type": "execute_result"
    }
   ],
   "source": []
  }
 ],
 "metadata": {
  "kernelspec": {
   "display_name": "openmmlab",
   "language": "python",
   "name": "python3"
  },
  "language_info": {
   "codemirror_mode": {
    "name": "ipython",
    "version": 3
   },
   "file_extension": ".py",
   "mimetype": "text/x-python",
   "name": "python",
   "nbconvert_exporter": "python",
   "pygments_lexer": "ipython3",
   "version": "3.8.18"
  }
 },
 "nbformat": 4,
 "nbformat_minor": 2
}
