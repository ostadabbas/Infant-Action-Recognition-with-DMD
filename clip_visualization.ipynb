{
 "cells": [
  {
   "cell_type": "code",
   "execution_count": 27,
   "metadata": {},
   "outputs": [],
   "source": [
    "import cv2\n",
    "import numpy as np\n",
    "import glob\n",
    "import pickle\n",
    "import os\n",
    "import tqdm\n",
    "import matplotlib.pyplot as plt"
   ]
  },
  {
   "cell_type": "code",
   "execution_count": 28,
   "metadata": {},
   "outputs": [],
   "source": [
    "def get_layout(layout: str) -> None:\n",
    "    \"\"\"Initialize the layout of candidates.\"\"\"\n",
    "\n",
    "    if layout == 'openpose':\n",
    "        num_node = 18\n",
    "        inward = [(4, 3), (3, 2), (7, 6), (6, 5), (13, 12), (12, 11),\n",
    "                        (10, 9), (9, 8), (11, 5), (8, 2), (5, 1), (2, 1),\n",
    "                        (0, 1), (15, 0), (14, 0), (17, 15), (16, 14)]\n",
    "        center = 1\n",
    "    elif layout == 'human3.6m':\n",
    "        num_node = 17\n",
    "        inward = [(10, 9), (9, 8), (8,7), (7,0), (13, 12), (12, 11), (11, 8),\n",
    "                  (16, 15), (15, 14), (14, 8),\n",
    "                  (13, 12), (12, 11), (11, 8),\n",
    "                  (3, 2), (2,1), (1,0),\n",
    "                  (6,5), (5,4), (4,0)]\n",
    "        center = 0\n",
    "    elif layout == 'nturgb+d':\n",
    "        num_node = 25\n",
    "        neighbor_base = [(1, 2), (2, 21), (3, 21), (4, 3), (5, 21), (6, 5),\n",
    "                            (7, 6), (8, 7), (9, 21), (10, 9), (11, 10),\n",
    "                            (12, 11), (13, 1), (14, 13), (15, 14), (16, 15),\n",
    "                            (17, 1), (18, 17), (19, 18), (20, 19), (22, 8),\n",
    "                            (23, 8), (24, 12), (25, 12)]\n",
    "        inward = [(i - 1, j - 1) for (i, j) in neighbor_base]\n",
    "        center = 21 - 1\n",
    "    elif layout == 'coco':\n",
    "        num_node = 17\n",
    "        inward = [(15, 13), (13, 11), (16, 14), (14, 12), (11, 5),\n",
    "                        (12, 6), (9, 7), (7, 5), (10, 8), (8, 6), (5, 0),\n",
    "                        (6, 0), (1, 0), (3, 1), (2, 0), (4, 2)]\n",
    "        center = 0\n",
    "    elif isinstance(layout, dict):\n",
    "        num_node = layout['num_node']\n",
    "        inward = layout['inward']\n",
    "        center = layout['center']\n",
    "    else:\n",
    "        raise ValueError(f'Do Not Exist This Layout: {layout}')\n",
    "    return num_node, inward, center"
   ]
  },
  {
   "cell_type": "code",
   "execution_count": 29,
   "metadata": {},
   "outputs": [],
   "source": [
    "get_name_from_dir = lambda x: os.path.splitext(x.split(os.sep)[-1])[0]"
   ]
  },
  {
   "cell_type": "code",
   "execution_count": 30,
   "metadata": {},
   "outputs": [],
   "source": [
    "SUBJECT = \"D03\"\n",
    "vids = glob.glob(f\"./Data/{SUBJECT}_raw/*.mp4\")\n",
    "#vid_names = \n",
    "with open(\"./Data/InfAct_plus/2d/primitive/InfAct_plus.pkl\", \"rb\") as f:\n",
    "    DS = pickle.load(f)\n",
    "\n",
    "annotations = [item for item in DS['annotations'] if SUBJECT in item['source']]"
   ]
  },
  {
   "cell_type": "code",
   "execution_count": 35,
   "metadata": {},
   "outputs": [
    {
     "data": {
      "text/plain": [
       "{'pos_number': 2,\n",
       " 'start_frame': 132,\n",
       " 'end_frame': 400,\n",
       " 'frame_dir': 'D03_nooie_20230117-130851@300000_Posture 2',\n",
       " 'total_frames': 268,\n",
       " 'img_shape': (1080, 1920),\n",
       " 'original_shape': (1080, 1920),\n",
       " 'pos_label': 'Standing',\n",
       " 'source': 'CAREER_D03',\n",
       " 'keypoint': array([[[[ 516.6605835 ,  961.41448975],\n",
       "          [ 437.38653564,  952.76416016],\n",
       "          [1481.61340332,  952.76416016],\n",
       "          ...,\n",
       "          [ 976.56195068,  407.86373901],\n",
       "          [-106.09091949, 1762.86877441],\n",
       "          [2025.09094238, 1762.86877441]],\n",
       " \n",
       "         [[ 516.6605835 ,  961.41448975],\n",
       "          [ 437.38653564,  952.76416016],\n",
       "          [1481.61340332,  952.76416016],\n",
       "          ...,\n",
       "          [ 976.56195068,  407.86373901],\n",
       "          [-106.09091949, 1762.86877441],\n",
       "          [2025.09094238, 1762.86877441]],\n",
       " \n",
       "         [[ 516.6605835 ,  961.41448975],\n",
       "          [ 437.38653564,  952.76416016],\n",
       "          [1481.61340332,  952.76416016],\n",
       "          ...,\n",
       "          [ 976.56195068,  407.86373901],\n",
       "          [-106.09091949, 1762.86877441],\n",
       "          [2025.09094238, 1762.86877441]],\n",
       " \n",
       "         ...,\n",
       " \n",
       "         [[1639.80310059,  500.96136475],\n",
       "          [1628.60534668,  492.92089844],\n",
       "          [1640.35949707,  483.09988403],\n",
       "          ...,\n",
       "          [1689.38183594,  531.31695557],\n",
       "          [1671.27624512,  747.86114502],\n",
       "          [1779.01416016,  489.787323  ]],\n",
       " \n",
       "         [[1380.9987793 ,  600.47393799],\n",
       "          [1376.79675293,  590.34637451],\n",
       "          [1379.72619629,  596.40270996],\n",
       "          ...,\n",
       "          [1451.91625977,  746.52746582],\n",
       "          [1491.2310791 ,  696.46063232],\n",
       "          [1519.28540039,  749.80206299]],\n",
       " \n",
       "         [[1380.93310547,  601.40576172],\n",
       "          [1377.09289551,  590.46435547],\n",
       "          [1379.15283203,  598.47814941],\n",
       "          ...,\n",
       "          [1446.00549316,  745.52178955],\n",
       "          [1491.13842773,  695.98040771],\n",
       "          [1516.73144531,  747.89666748]]]]),\n",
       " 'keypoint_score': array([[[0.01561023, 0.0254864 , 0.0254864 , ..., 0.07662655,\n",
       "          0.02731153, 0.02731153],\n",
       "         [0.01561023, 0.0254864 , 0.0254864 , ..., 0.07662655,\n",
       "          0.02731153, 0.02731153],\n",
       "         [0.01561023, 0.0254864 , 0.0254864 , ..., 0.07662655,\n",
       "          0.02731153, 0.02731153],\n",
       "         ...,\n",
       "         [0.67471051, 0.7900154 , 0.49912024, ..., 0.13921021,\n",
       "          0.2870276 , 0.07473703],\n",
       "         [0.73522264, 0.63588572, 0.72144103, ..., 0.76767266,\n",
       "          0.88240314, 0.80508256],\n",
       "         [0.76266986, 0.63325107, 0.69751894, ..., 0.79973733,\n",
       "          0.86179614, 0.78616285]]]),\n",
       " 'label': 3}"
      ]
     },
     "execution_count": 35,
     "metadata": {},
     "output_type": "execute_result"
    }
   ],
   "source": [
    "a = [item for item in DS['annotations'] if \"130851\" in item['frame_dir']]\n",
    "a[0]"
   ]
  },
  {
   "cell_type": "code",
   "execution_count": 6,
   "metadata": {},
   "outputs": [],
   "source": [
    "def add_skel_to_img(img, kps):\n",
    "    Xs = kps[:,0].astype(int)\n",
    "    Ys = kps[:,1].astype(int)\n",
    "    _, inward, _ = get_layout('coco')\n",
    "    img_cp = img.copy()\n",
    "    for (x,y) in zip(Xs, Ys):\n",
    "        img_cp = cv2.circle(img_cp, (x,y), radius=5, color=(0, 0, 0), thickness=-1)\n",
    "    for bone in inward:\n",
    "        img_cp = cv2.line(img_cp,(Xs[bone[0]], Ys[bone[0]]), (Xs[bone[1]], Ys[bone[1]]),(0, 140, 255),2)\n",
    "    return img_cp"
   ]
  },
  {
   "cell_type": "code",
   "execution_count": 26,
   "metadata": {},
   "outputs": [
    {
     "name": "stderr",
     "output_type": "stream",
     "text": [
      "  0%|          | 0/1 [00:00<?, ?it/s]"
     ]
    },
    {
     "name": "stdout",
     "output_type": "stream",
     "text": [
      "nooie_20230118-151749@300000\n",
      "Here\n"
     ]
    },
    {
     "name": "stderr",
     "output_type": "stream",
     "text": [
      "100%|██████████| 1/1 [00:56<00:00, 56.89s/it]\n"
     ]
    }
   ],
   "source": [
    "for vid_pth in tqdm.tqdm(vids[-5:-4]):\n",
    "    vid_name = get_name_from_dir(vid_pth)\n",
    "    print(vid_name)\n",
    "    vid_annos = [item for item in annotations if vid_name in item['frame_dir']]\n",
    "    starts = [item['start_frame'] for item in vid_annos]\n",
    "    ends = [item['end_frame'] for item in vid_annos]\n",
    "    poses = [item['pos_label'] for item in vid_annos]\n",
    "    skels = [item['keypoint'] for item in vid_annos]\n",
    "\n",
    "    clips = [[] for _ in range(len(vid_annos))]\n",
    "\n",
    "    cap = cv2.VideoCapture(vid_pth)\n",
    "    \n",
    "    frame_count = 0\n",
    "    clip_count = 0\n",
    "    while cap.isOpened():\n",
    "        \n",
    "        if clip_count>=len(vid_annos):\n",
    "             break\n",
    "        \n",
    "        ret,frame = cap.read()\n",
    "        if frame_count==0:\n",
    "            height, width, _= frame.shape\n",
    "\n",
    "        if frame_count>=starts[clip_count] and frame_count<ends[clip_count]-1:\n",
    "            try:\n",
    "                skel = skels[clip_count][0,frame_count-starts[clip_count]]\n",
    "                aug_frame = add_skel_to_img(frame, skel)\n",
    "                clips[clip_count].append(aug_frame)\n",
    "            except Exception as E:\n",
    "                print(E)\n",
    "                pass\n",
    "\n",
    "        if frame_count==ends[clip_count]:\n",
    "            clip_count+=1\n",
    "            if clip_count==11:\n",
    "                clip_count+=1\n",
    "\n",
    "        frame_count = frame_count + 1\n",
    "\n",
    "    print('Here')\n",
    "    cap.release()\n",
    "    cv2.destroyAllWindows()\n",
    "\n",
    "    out_dir = os.path.join(f\"Data/{SUBJECT}_clips/{vid_name}/\")\n",
    "    os.makedirs(out_dir, exist_ok=True)\n",
    "    for i, clip in enumerate(clips):\n",
    "        fourcc = cv2.VideoWriter_fourcc(*'mp4v') \n",
    "        out_pth = os.path.join(out_dir,f\"video_{vid_name}_{i}_{poses[i]}.avi\")\n",
    "        video = cv2.VideoWriter(out_pth, fourcc, 5, (width, height))\n",
    "\n",
    "        for f in clip:\n",
    "            video.write(f)\n",
    "\n",
    "        video.release()\n",
    "        cv2.destroyAllWindows()"
   ]
  },
  {
   "cell_type": "code",
   "execution_count": 24,
   "metadata": {},
   "outputs": [
    {
     "name": "stdout",
     "output_type": "stream",
     "text": [
      "0 1 136\n",
      "1 160 209\n",
      "2 238 493\n",
      "3 512 576\n",
      "4 590 1588\n",
      "5 1630 1696\n",
      "6 1711 1735\n",
      "7 1749 2144\n",
      "8 2169 2227\n",
      "9 2255 3124\n",
      "10 3157 3176\n",
      "11 3148 3158\n",
      "12 3200 3320\n",
      "13 3332 3708\n",
      "14 4059 4070\n",
      "15 4079 4450\n"
     ]
    }
   ],
   "source": [
    "for i, (s, e) in enumerate(zip(starts, ends)):\n",
    "    print(i, s,e)"
   ]
  },
  {
   "cell_type": "code",
   "execution_count": 15,
   "metadata": {},
   "outputs": [
    {
     "data": {
      "text/plain": [
       "16"
      ]
     },
     "execution_count": 15,
     "metadata": {},
     "output_type": "execute_result"
    }
   ],
   "source": [
    "len(ends)"
   ]
  }
 ],
 "metadata": {
  "kernelspec": {
   "display_name": "openmmlab",
   "language": "python",
   "name": "python3"
  },
  "language_info": {
   "codemirror_mode": {
    "name": "ipython",
    "version": 3
   },
   "file_extension": ".py",
   "mimetype": "text/x-python",
   "name": "python",
   "nbconvert_exporter": "python",
   "pygments_lexer": "ipython3",
   "version": "0.0.0"
  },
  "orig_nbformat": 4
 },
 "nbformat": 4,
 "nbformat_minor": 2
}
