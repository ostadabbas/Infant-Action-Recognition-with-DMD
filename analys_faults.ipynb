{
 "cells": [
  {
   "cell_type": "code",
   "execution_count": 26,
   "metadata": {},
   "outputs": [],
   "source": [
    "import numpy as np\n",
    "import pickle\n",
    "from sklearn.metrics import confusion_matrix, ConfusionMatrixDisplay\n",
    "from sklearn.manifold import TSNE\n",
    "from sklearn.decomposition import PCA\n",
    "import matplotlib.pyplot as plt\n",
    "import matplotlib\n",
    "import matplotlib\n",
    "import matplotlib as mpl\n",
    "import matplotlib.patches as mpatches\n",
    "from matplotlib.colors import Normalize\n",
    "import matplotlib.lines as mlines"
   ]
  },
  {
   "cell_type": "code",
   "execution_count": 27,
   "metadata": {},
   "outputs": [],
   "source": [
    "POSTURE_CODEBOOK = {0: 'Supine', 1: 'Prone', 2: 'Sitting', 3: 'Standing', 4: 'All-fours',5: 'Transition'}"
   ]
  },
  {
   "cell_type": "code",
   "execution_count": 2,
   "metadata": {},
   "outputs": [],
   "source": [
    "def set_ax_borders(ax, top, right, bottom, left):\n",
    "    ax.spines['top'].set_visible(top)\n",
    "    ax.spines['right'].set_visible(right)\n",
    "    ax.spines['bottom'].set_visible(bottom)\n",
    "    ax.spines['left'].set_visible(left)"
   ]
  },
  {
   "cell_type": "code",
   "execution_count": 3,
   "metadata": {},
   "outputs": [],
   "source": [
    "with open('Results_exp/ctrgcn_infact_plus_2d_primitive_withall/eval.pkl', 'rb') as f:\n",
    "    ctrgcn_2d = pickle.load(f)"
   ]
  },
  {
   "cell_type": "code",
   "execution_count": 4,
   "metadata": {},
   "outputs": [],
   "source": [
    "gt_labels = np.array([i['gt_label'].item() for i in ctrgcn_2d])\n",
    "pred_labels = np.array([i['pred_label'].item() for i in ctrgcn_2d])\n",
    "pred_feats = np.array([i['pred_feats'].numpy() for i in ctrgcn_2d])\n",
    "\n",
    "with open('./Data/new_InfAct_plus_2d.pkl', 'rb') as f:\n",
    "    infact_ds = pickle.load(f)\n",
    "\n",
    "frame_dirs = [item for item in infact_ds['split']['val']]"
   ]
  },
  {
   "cell_type": "code",
   "execution_count": 28,
   "metadata": {},
   "outputs": [],
   "source": [
    "dict_res = {}\n",
    "for f in frame_dirs:\n",
    "    sub = f.split(\"_\")[0]\n",
    "    if sub not in dict_res.keys():\n",
    "        dict_res[sub] = {f:(gt==pred,POSTURE_CODEBOOK[pred]) for f,gt,pred in zip(frame_dirs,gt_labels, pred_labels) if f.split(\"_\")[0]==sub}\n",
    "    else:\n",
    "        continue"
   ]
  },
  {
   "cell_type": "code",
   "execution_count": 29,
   "metadata": {},
   "outputs": [
    {
     "data": {
      "text/plain": [
       "{'D10_nooie_20230602-122821@300000_0_All-fours': 'Sitting',\n",
       " 'D10_nooie_20230602-152323@300000_0_Supine': 'All-fours',\n",
       " 'D10_nooie_20230602-152823@300000_0_Supine': 'Sitting',\n",
       " 'D10_nooie_20230602-152823@300000_3_Supine': 'Sitting',\n",
       " 'D10_nooie_20230602-152823@300000_5_Prone': 'Standing',\n",
       " 'D10_nooie_20230604-194406@300000_0_Prone': 'Sitting',\n",
       " 'D10_nooie_20230604-194406@300000_1_All-fours': 'Prone',\n",
       " 'D10_nooie_20230604-194406@300000_3_All-fours': 'Prone',\n",
       " 'D10_nooie_20230604-194406@300000_4_All-fours': 'Prone',\n",
       " 'D10_nooie_20230604-194406@300000_5_Sitting': 'Supine',\n",
       " 'D10_nooie_20230604-194406@300000_6_Sitting': 'Supine',\n",
       " 'D10_nooie_20230604-194406@300000_9_Prone': 'All-fours',\n",
       " 'D10_nooie_20230606-203713@300434_1_All-fours': 'Prone',\n",
       " 'D10_nooie_20230606-203713@300434_2_All-fours': 'Prone',\n",
       " 'D10_nooie_20230607-150839@300000_0_Sitting': 'Supine',\n",
       " 'D10_nooie_20230607-150839@300000_2_All-fours': 'Prone',\n",
       " 'D10_nooie_20230608-153505@300000_2_Supine': 'Sitting',\n",
       " 'D10_nooie_20230608-154505@300000_1_Supine': 'Sitting',\n",
       " 'D10_nooie_20230608-154505@300000_2_Supine': 'Sitting',\n",
       " 'D10_nooie_20230608-154505@300000_3_Prone': 'All-fours',\n",
       " 'D10_nooie_20230608-154505@300000_4_Prone': 'All-fours',\n",
       " 'D10_nooie_20230608-154505@300000_7_Prone': 'All-fours',\n",
       " 'D10_nooie_20230608-193506@300000_0_Sitting': 'Supine',\n",
       " 'D10_nooie_20230608-193506@300000_1_All-fours': 'Sitting',\n",
       " 'D10_nooie_20230608-193506@300000_3_Prone': 'Sitting',\n",
       " 'D10_nooie_20230608-193506@300000_4_Prone': 'Sitting',\n",
       " 'D10_nooie_20230608-193506@300000_6_Prone': 'Sitting',\n",
       " 'D10_nooie_20230608-193506@300000_7_Supine': 'Prone',\n",
       " 'D10_nooie_20230608-193506@300000_9_Prone': 'All-fours',\n",
       " 'D10_nooie_20230608-193506@300000_11_Supine': 'Prone',\n",
       " 'D10_nooie_20230610-082245@300000_6_All-fours': 'Sitting',\n",
       " 'D10_nooie_20230610-082245@300000_12_All-fours': 'Prone',\n",
       " 'D10_nooie_20230610-082745@300000_3_All-fours': 'Sitting',\n",
       " 'D10_nooie_20230610-082745@300000_6_All-fours': 'Prone',\n",
       " 'D10_nooie_20230610-192245@300000_1_All-fours': 'Sitting',\n",
       " 'D10_nooie_20230610-192245@300000_2_All-fours': 'Prone',\n",
       " 'D10_nooie_20230610-192245@300000_4_Prone': 'Sitting',\n",
       " 'D10_nooie_20230610-192745@300000_2_Prone': 'Supine',\n",
       " 'D10_nooie_20230610-192745@300000_4_Supine': 'Sitting',\n",
       " 'D10_nooie_20230623-133145@300000_0_Sitting': 'Supine',\n",
       " 'D10_nooie_20230623-133145@300000_1_All-fours': 'Sitting',\n",
       " 'D10_nooie_20230623-133145@300000_2_All-fours': 'Standing',\n",
       " 'D10_nooie_20230623-133645@300000_1_All-fours': 'Sitting',\n",
       " 'D10_nooie_20230623-133645@300000_5_All-fours': 'Prone',\n",
       " 'D10_nooie_20230623-133645@300000_7_Sitting': 'Standing',\n",
       " 'D10_nooie_20230623-163647@300267_11_Sitting': 'Standing',\n",
       " 'D10_nooie_20230623-163647@300267_12_All-fours': 'Prone',\n",
       " 'D10_nooie_20230623-163647@300267_14_All-fours': 'Sitting',\n",
       " 'D10_nooie_20230623-163647@300267_16_Sitting': 'All-fours',\n",
       " 'D10_nooie_20230623-163647@300267_19_All-fours': 'Prone',\n",
       " 'D10_nooie_20230623-163647@300267_25_All-fours': 'Sitting',\n",
       " 'D10_nooie_20230623-163647@300267_26_All-fours': 'Sitting',\n",
       " 'D10_nooie_20230623-163647@300267_30_All-fours': 'Sitting',\n",
       " 'D10_nooie_20230623-163647@300267_33_All-fours': 'Prone',\n",
       " 'D10_nooie_20230623-165147@300000_7_Sitting': 'Standing',\n",
       " 'D10_nooie_20230623-165647@300000_1_Prone': 'Standing',\n",
       " 'D10_nooie_20230625-154405@300000_4_All-fours': 'Standing',\n",
       " 'D10_nooie_20230625-154905@300000_5_Sitting': 'Standing',\n",
       " 'D10_nooie_20230625-154905@300000_7_Prone': 'Sitting',\n",
       " 'D10_nooie_20230625-154905@300000_9_Prone': 'All-fours',\n",
       " 'D10_nooie_20230625-155405@300000_15_All-fours': 'Standing',\n",
       " 'D10_nooie_20230625-155905@300000_0_Sitting': 'Standing',\n",
       " 'D10_nooie_20230625-155905@300000_4_Sitting': 'Prone',\n",
       " 'D10_nooie_20230625-155905@300000_13_Prone': 'Standing',\n",
       " 'D10_nooie_20230625-164405@301667_2_Prone': 'Sitting',\n",
       " 'D10_nooie_20230625-164405@301667_3_Prone': 'Sitting',\n",
       " 'D10_nooie_20230627-161230@300000_0_Sitting': 'Standing',\n",
       " 'D10_nooie_20230627-161230@300000_1_All-fours': 'Prone'}"
      ]
     },
     "execution_count": 29,
     "metadata": {},
     "output_type": "execute_result"
    }
   ],
   "source": [
    "{k:v[1] for k,v in dict_res[\"D10\"].items() if ~v[0]}"
   ]
  }
 ],
 "metadata": {
  "kernelspec": {
   "display_name": "openmmlab",
   "language": "python",
   "name": "python3"
  },
  "language_info": {
   "codemirror_mode": {
    "name": "ipython",
    "version": 3
   },
   "file_extension": ".py",
   "mimetype": "text/x-python",
   "name": "python",
   "nbconvert_exporter": "python",
   "pygments_lexer": "ipython3",
   "version": "3.8.18"
  }
 },
 "nbformat": 4,
 "nbformat_minor": 2
}
