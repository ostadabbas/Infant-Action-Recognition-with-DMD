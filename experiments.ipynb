{
 "cells": [
  {
   "cell_type": "code",
   "execution_count": 20,
   "metadata": {},
   "outputs": [
    {
     "data": {
      "text/plain": [
       "'mim test mmaction \\nconfigs/ctrgcn_infact_plus_2d_primitive.py \\n--checkpoint ../../../Results/ctrgcn_infact_plus_2d_primitive/best_acc_top1_epoch_14.pth \\n--dump ../../../Results/ctrgcn_infact_plus_2d_primitive/eval.pkl'"
      ]
     },
     "execution_count": 20,
     "metadata": {},
     "output_type": "execute_result"
    }
   ],
   "source": [
    "### CTRGCN Infact Plus 2d primitive train\n",
    "\"\"\"mim train mmaction configs/ctrgcn_infact_plus_2d_primitive.py \n",
    "--work-dir ../../../Results/ctrgcn_infact_plus_2d_primitive\"\"\"\n",
    "### CTRGCN Infact Plus 2d primitive test\n",
    "\"\"\"mim test mmaction \n",
    "configs/ctrgcn_infact_plus_2d_primitive.py \n",
    "--checkpoint ../../../Results/ctrgcn_infact_plus_2d_primitive/best_acc_top1_epoch_{}.pth \n",
    "--dump ../../../Results/ctrgcn_infact_plus_2d_primitive/eval.pkl\"\"\""
   ]
  },
  {
   "cell_type": "code",
   "execution_count": null,
   "metadata": {},
   "outputs": [],
   "source": [
    "### CTRGCN Infact Plus 2d primitive train\n",
    "\"\"\"mim train mmaction configs/ctrgcn_infact_plus_3d_primitive.py \n",
    "--work-dir ../../../Results/ctrgcn_infact_plus_3d_primitive\"\"\"\n",
    "### CTRGCN Infact Plus 2d primitive test\n",
    "\"\"\"mim test mmaction \n",
    "configs/ctrgcn_infact_plus_2d_primitive.py \n",
    "--checkpoint ../../../Results/ctrgcn_infact_plus_3d_primitive/best_acc_top1_epoch_{}.pth \n",
    "--dump ../../../Results/ctrgcn_infact_plus_3d_primitive/eval.pkl\"\"\""
   ]
  },
  {
   "cell_type": "code",
   "execution_count": 16,
   "metadata": {},
   "outputs": [],
   "source": [
    "import numpy as np\n",
    "import pickle\n",
    "\n",
    "with open('./Results/ctrgcn_infact_plus_2d_primitive/eval.pkl', 'rb') as f:\n",
    "    ctrgcn_res = pickle.load(f)\n",
    "\n",
    "with open('../ActionRecognition_deprecated/results/stgcn_infact_plus_2d_primitive/eval.pkl', 'rb') as f:\n",
    "    stgcn_dep_res = pickle.load(f)"
   ]
  },
  {
   "cell_type": "code",
   "execution_count": 18,
   "metadata": {},
   "outputs": [
    {
     "data": {
      "text/plain": [
       "dict_keys(['num_classes', 'img_shape', 'pred_feats', 'gt_label', 'pred_score', 'pred_label'])"
      ]
     },
     "execution_count": 18,
     "metadata": {},
     "output_type": "execute_result"
    }
   ],
   "source": [
    "ctrgcn_res[0].keys()"
   ]
  },
  {
   "cell_type": "code",
   "execution_count": 19,
   "metadata": {},
   "outputs": [
    {
     "data": {
      "text/plain": [
       "{'num_classes': 5,\n",
       " 'img_shape': (1080, 1920),\n",
       " 'pred_feats': tensor([4.1220e-03, 6.0486e-02, 7.6425e-02, 3.4634e-01, 2.1649e-01, 3.3580e-01,\n",
       "         9.2680e-04, 6.4629e-02, 2.5315e-01, 4.0468e-01, 2.0742e-02, 4.1843e-01,\n",
       "         1.8605e-01, 8.6289e-02, 2.8309e-01, 1.4752e-01, 6.1199e-02, 5.3524e-02,\n",
       "         5.5836e-01, 1.9549e-01, 4.6679e-01, 4.9499e-02, 5.2013e-02, 3.7391e-01,\n",
       "         3.0274e-01, 2.9552e-01, 3.5421e-01, 6.8950e-04, 1.2375e-02, 2.4780e-01,\n",
       "         3.5926e-01, 4.7714e-02, 3.9954e-05, 2.4846e-01, 4.9539e-01, 5.7975e-02,\n",
       "         2.6728e-01, 2.1995e-01, 7.0742e-02, 9.3656e-02, 1.4068e-02, 5.3466e-02,\n",
       "         5.5642e-03, 3.8491e-01, 2.5521e-01, 3.6221e-01, 1.1434e-01, 1.5686e-01,\n",
       "         7.9914e-02, 2.8155e-01, 3.9168e-01, 5.0223e-03, 6.8311e-01, 3.2401e-02,\n",
       "         4.6541e-01, 2.8014e-01, 5.2931e-01, 2.0521e-02, 4.1493e-02, 1.6555e-01,\n",
       "         4.1259e-01, 4.8855e-01, 6.9019e-03, 3.1740e-01, 8.4103e-02, 2.0941e-01,\n",
       "         2.9985e-01, 3.6734e-01, 1.0191e-02, 1.6538e-01, 3.8092e-02, 3.8100e-01,\n",
       "         2.6949e-02, 2.5225e-01, 3.6063e-02, 7.9479e-02, 2.8805e-02, 3.0677e-01,\n",
       "         3.5871e-01, 9.9549e-02, 5.4921e-02, 7.4661e-02, 1.5247e-01, 6.8690e-02,\n",
       "         3.5996e-01, 1.7384e-03, 3.8918e-01, 3.8754e-01, 2.9288e-01, 2.7018e-01,\n",
       "         2.8064e-01, 4.2267e-02, 1.2167e-01, 6.8792e-03, 3.2265e-01, 1.4967e-01,\n",
       "         4.0494e-04, 9.7926e-02, 2.7980e-01, 4.9062e-02, 3.8476e-01, 9.3843e-03,\n",
       "         9.6034e-02, 1.0323e-02, 3.9038e-01, 1.4482e-02, 3.8792e-01, 3.3853e-01,\n",
       "         5.7480e-01, 8.9336e-02, 1.3400e-01, 4.0298e-01, 2.2215e-01, 4.2574e-02,\n",
       "         3.6865e-01, 1.3178e-03, 2.0577e-02, 1.1282e-01, 3.6708e-01, 1.3601e-01,\n",
       "         4.4487e-02, 2.4136e-04, 1.8053e-01, 4.7334e-01, 9.7686e-02, 3.3852e-04,\n",
       "         2.3565e-02, 1.2725e-01, 8.8504e-01, 1.3457e+00, 3.0979e-01, 4.2510e-01,\n",
       "         4.5407e-02, 6.1659e-01, 3.3677e-02, 1.9197e-01, 3.5375e-01, 3.2085e-01,\n",
       "         6.3098e-01, 5.6612e-01, 8.3357e-01, 4.0022e-01, 9.7787e-01, 7.0492e-01,\n",
       "         5.6157e-01, 9.4752e-01, 1.0906e+00, 2.0891e-01, 4.8108e-02, 7.6395e-01,\n",
       "         3.5692e-01, 3.0679e-01, 5.6903e-01, 5.3444e-01, 1.2304e+00, 3.3437e-01,\n",
       "         3.7619e-01, 1.2365e+00, 6.8254e-01, 4.9344e-01, 3.9117e-01, 1.5466e+00,\n",
       "         4.6946e-01, 1.8404e-01, 5.5413e-01, 2.3891e-01, 3.7758e-01, 3.7349e-01,\n",
       "         3.7231e-01, 9.7439e-01, 6.9334e-01, 2.5844e-01, 5.2093e-01, 2.9076e-01,\n",
       "         7.8798e-01, 4.4892e-01, 3.9893e-02, 3.7484e-01, 7.5264e-01, 5.4039e-01,\n",
       "         6.5544e-01, 2.4147e-01, 1.8688e-01, 1.1727e+00, 1.9638e+00, 3.7808e-01,\n",
       "         2.9442e-02, 5.5655e-01, 1.4716e-01, 1.1602e+00, 2.5589e+00, 5.6093e-01,\n",
       "         3.7534e-01, 8.4042e-01, 4.8170e-01, 3.9622e-02, 1.2707e-01, 6.6096e-02,\n",
       "         1.4199e-01, 1.9518e-02, 3.8142e-02, 2.2996e-01, 8.9157e-02, 8.2613e-01,\n",
       "         1.5314e-01, 4.6214e-01, 6.2778e-01, 4.9167e-02, 3.6960e-01, 6.4942e-01,\n",
       "         2.1033e-01, 2.6504e-01, 1.6886e-01, 2.7971e-01, 1.5871e-01, 2.5460e-01,\n",
       "         6.1552e-01, 3.2886e-01, 3.9790e-01, 3.6989e-01, 9.5376e-01, 3.6384e-01,\n",
       "         2.9807e-02, 1.0189e-01, 2.5585e-01, 7.2209e-02, 3.6969e-01, 4.8160e-01,\n",
       "         4.8677e-01, 2.4024e-01, 3.9550e-01, 8.8951e-02, 5.4491e-02, 3.8480e-01,\n",
       "         4.9429e-01, 3.8866e-01, 9.7470e-01, 7.7203e-02, 1.2166e-01, 4.1367e-01,\n",
       "         3.3625e-01, 4.4152e-01, 2.8365e-01, 3.9055e-01, 9.2306e-02, 5.1777e-01,\n",
       "         9.6894e-01, 1.9272e-01, 9.1211e-02, 6.8152e-01, 3.4299e-01, 3.1346e-01,\n",
       "         3.9349e-02, 2.7376e-01, 1.2122e-01, 5.1591e-01]),\n",
       " 'gt_label': tensor([0]),\n",
       " 'pred_score': tensor([9.9932e-01, 6.8461e-04, 3.9927e-10, 5.2411e-09, 5.3349e-11]),\n",
       " 'pred_label': tensor([0])}"
      ]
     },
     "execution_count": 19,
     "metadata": {},
     "output_type": "execute_result"
    }
   ],
   "source": [
    "ctrgcn_res[0]"
   ]
  },
  {
   "cell_type": "code",
   "execution_count": 10,
   "metadata": {},
   "outputs": [
    {
     "data": {
      "text/plain": [
       "dict_keys(['img_shape', 'pred_scores', 'gt_labels', 'pred_feats', 'pred_labels'])"
      ]
     },
     "execution_count": 10,
     "metadata": {},
     "output_type": "execute_result"
    }
   ],
   "source": [
    "stgcn_dep_res[0].keys()"
   ]
  }
 ],
 "metadata": {
  "kernelspec": {
   "display_name": "openmmlab",
   "language": "python",
   "name": "python3"
  },
  "language_info": {
   "codemirror_mode": {
    "name": "ipython",
    "version": 3
   },
   "file_extension": ".py",
   "mimetype": "text/x-python",
   "name": "python",
   "nbconvert_exporter": "python",
   "pygments_lexer": "ipython3",
   "version": "3.8.18"
  },
  "orig_nbformat": 4
 },
 "nbformat": 4,
 "nbformat_minor": 2
}
