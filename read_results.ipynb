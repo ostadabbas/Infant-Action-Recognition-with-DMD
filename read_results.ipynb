{
 "cells": [
  {
   "cell_type": "code",
   "execution_count": 1,
   "metadata": {},
   "outputs": [],
   "source": [
    "import numpy as np\n",
    "import pickle\n",
    "from sklearn.metrics import confusion_matrix, ConfusionMatrixDisplay\n",
    "from sklearn.manifold import TSNE\n",
    "from sklearn.decomposition import PCA\n",
    "import matplotlib.pyplot as plt\n",
    "import matplotlib\n",
    "import matplotlib\n",
    "import matplotlib as mpl\n",
    "import matplotlib.patches as mpatches\n",
    "from matplotlib.colors import Normalize\n",
    "import matplotlib.lines as mlines\n",
    "import glob\n",
    "import pandas as pd"
   ]
  },
  {
   "cell_type": "code",
   "execution_count": 2,
   "metadata": {},
   "outputs": [],
   "source": [
    "dses = {}\n",
    "for i in range(1,6):\n",
    "    with open(f\"./Data/InfAct_kfold/new_InfAct_plus_2d_{i}fold.pkl\", \"rb\") as f:\n",
    "        dses[i]=pickle.load(f)\n",
    "\n",
    "counter = 0\n",
    "for k1,v1 in dses.items():\n",
    "    current_vals = v1['split']['val']\n",
    "    for k2,v2 in dses.items():\n",
    "        if k1==k2:\n",
    "            continue\n",
    "        for item in current_vals:\n",
    "            counter+=1\n",
    "            assert item not in v2['split']['val']"
   ]
  },
  {
   "cell_type": "code",
   "execution_count": 3,
   "metadata": {},
   "outputs": [
    {
     "name": "stdout",
     "output_type": "stream",
     "text": [
      "176\n",
      "400\n"
     ]
    }
   ],
   "source": [
    "def read_result(experiment):\n",
    "    with open(f'{experiment}', 'rb') as f:\n",
    "        eval_file = pickle.load(f)\n",
    "\n",
    "    gt_labels = np.array([i['gt_label'].item() for i in eval_file])\n",
    "    pred_labels = np.array([i['pred_label'].item() for i in eval_file])\n",
    "\n",
    "    assert len(pred_labels)==len(gt_labels), 'Predictions and Ground truths lenghts are incompatible'\n",
    "    print(len(gt_labels))\n",
    "    return (pred_labels==gt_labels).sum()/len(gt_labels)\n",
    "\n",
    "experiments = glob.glob(\"./Results_CTRGCN/*val_*test_*/eval*.pkl\")\n",
    "results_dict = {}\n",
    "for experiment in experiments:\n",
    "    res = read_result(experiment)\n",
    "    results_dict[experiment] = f\"{res*100:.2f}\""
   ]
  },
  {
   "cell_type": "code",
   "execution_count": 4,
   "metadata": {},
   "outputs": [
    {
     "data": {
      "text/plain": [
       "{'./Results_CTRGCN\\\\ctrgcn_infact_plus_2d_primitive_val_youtube_test_D01_D02\\\\eval_test.pkl': '57.39',\n",
       " './Results_CTRGCN\\\\ctrgcn_infact_plus_2d_primitive_val_youtube_test_D01_D02\\\\eval_val.pkl': '55.25'}"
      ]
     },
     "execution_count": 4,
     "metadata": {},
     "output_type": "execute_result"
    }
   ],
   "source": [
    "results_dict"
   ]
  },
  {
   "cell_type": "code",
   "execution_count": 90,
   "metadata": {},
   "outputs": [
    {
     "data": {
      "text/plain": [
       "array(['76.31', '71.72', '78.26'], dtype='<U5')"
      ]
     },
     "execution_count": 90,
     "metadata": {},
     "output_type": "execute_result"
    }
   ],
   "source": [
    "np.array(list(results_dict.values()))"
   ]
  }
 ],
 "metadata": {
  "kernelspec": {
   "display_name": "openmmlab",
   "language": "python",
   "name": "python3"
  },
  "language_info": {
   "codemirror_mode": {
    "name": "ipython",
    "version": 3
   },
   "file_extension": ".py",
   "mimetype": "text/x-python",
   "name": "python",
   "nbconvert_exporter": "python",
   "pygments_lexer": "ipython3",
   "version": "3.8.18"
  },
  "orig_nbformat": 4
 },
 "nbformat": 4,
 "nbformat_minor": 2
}
